{
 "cells": [
  {
   "cell_type": "markdown",
   "id": "acd6386b",
   "metadata": {},
   "source": [
    "# Як вибрати рядки в DataFrame на основі значень у стовпці в pandas\n",
    "\n",
    "[overcoder](https://overcoder.net/q/3301/%D0%B2%D1%8B%D0%B1%D0%B5%D1%80%D0%B8%D1%82%D0%B5-%D1%81%D1%82%D1%80%D0%BE%D0%BA%D0%B8-%D0%B2-dataframe-%D0%BD%D0%B0-%D0%BE%D1%81%D0%BD%D0%BE%D0%B2%D0%B5-%D0%B7%D0%BD%D0%B0%D1%87%D0%B5%D0%BD%D0%B8%D0%B9-%D0%B2-%D1%81%D1%82%D0%BE%D0%BB%D0%B1%D1%86%D0%B5-%D0%B2-%D0%BF%D0%B0%D0%BD%D0%B4%D0%B0%D1%85)"
   ]
  },
  {
   "cell_type": "code",
   "execution_count": null,
   "id": "021a9347",
   "metadata": {},
   "outputs": [],
   "source": []
  },
  {
   "cell_type": "code",
   "execution_count": null,
   "id": "a5d8194c",
   "metadata": {},
   "outputs": [],
   "source": []
  },
  {
   "cell_type": "markdown",
   "id": "c2f854b8",
   "metadata": {},
   "source": [
    "Щоб вибрати рядки, значення стовпця яких дорівнює скаляру, `some_value`, використовуйте `==`:\n",
    "\n",
    "```Python\n",
    "df.loc[df['column_name'] == some_value]\n",
    "```\n",
    "Щоб вибрати рядки, чиє значення стовпця знаходиться в ітерованій `some_values`, використовуйте `isin`:\n",
    "\n",
    "```Python\n",
    "df.loc[df['column_name'].isin(some_values)]\n",
    "```\n",
    "Поєднайте кілька умов з `&`:\n",
    "\n",
    "```Python\n",
    "df.loc[(df['column_name'] >= A) & (df['column_name'] <= B)]\n",
    "```\n",
    "Зверніть увагу на круглі дужки. Через правила пріоритету оператора Python `&` зв'язується тісніше, ніж `<=` і `>=`. Таким чином, дужки в останньому прикладі потрібні. Без дужок\n",
    "\n",
    "```Python\n",
    "df['column_name'] >= A & df['column_name'] <= B\n",
    "```\n",
    "\n",
    "аналізується як\n",
    "\n",
    "```Python\n",
    "df['column_name'] >= (A & df['column_name']) <= B\n",
    "```\n",
    "\n",
    "що призводить до значення [Істини Серії – неоднозначна помилка](https://stackoverflow.com/questions/36921951/truth-value-of-a-series-is-ambiguous-use-a-empty-a-bool-a-item-a-any-o).\n",
    "\n",
    "Щоб вибрати рядки, значення стовпця яких не дорівнює `some_value`, використовуйте `!=`:\n",
    "\n",
    "```Python\n",
    "df.loc[df['column_name'] != some_value]\n",
    "```\n",
    "\n",
    "`isin` повертає логічний ряд, тому, щоб вибрати рядки, значення яких не `some_values` в `some_values`, `some_values` логічний ряд за допомогою `~`:\n",
    "\n",
    "```Python\n",
    "df.loc[~df['column_name'].isin(some_values)]\n",
    "```"
   ]
  },
  {
   "cell_type": "code",
   "execution_count": null,
   "id": "eb90498e",
   "metadata": {},
   "outputs": [],
   "source": []
  }
 ],
 "metadata": {
  "kernelspec": {
   "display_name": "Python 3 (ipykernel)",
   "language": "python",
   "name": "python3"
  },
  "language_info": {
   "codemirror_mode": {
    "name": "ipython",
    "version": 3
   },
   "file_extension": ".py",
   "mimetype": "text/x-python",
   "name": "python",
   "nbconvert_exporter": "python",
   "pygments_lexer": "ipython3",
   "version": "3.10.5"
  }
 },
 "nbformat": 4,
 "nbformat_minor": 5
}
